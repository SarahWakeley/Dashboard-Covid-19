{
 "cells": [
  {
   "cell_type": "markdown",
   "metadata": {},
   "source": [
    "[DIY Covid-19 Dashboard Kit](https://github.com/fsmeraldi/diy-covid19dash) (C) Fabrizio Smeraldi, 2020 ([f.smeraldi@qmul.ac.uk](mailto:f.smeraldi@qmul.ac.uk) - [web](http://www.eecs.qmul.ac.uk/~fabri/)). All rights reserved."
   ]
  },
  {
   "cell_type": "markdown",
   "metadata": {},
   "source": [
    "# DIY Covid-19 Dashboard"
   ]
  },
  {
   "cell_type": "markdown",
   "metadata": {},
   "source": [
    "Welcome to the Covid-19 Dashboard. This Dashboard has been built using the Public Health England API."
   ]
  },
  {
   "cell_type": "code",
   "execution_count": 12,
   "metadata": {},
   "outputs": [],
   "source": [
    "from IPython.display import clear_output\n",
    "import ipywidgets as wdg\n",
    "import pandas as pd\n",
    "import numpy as np\n",
    "import matplotlib.pyplot as plt\n",
    "import json\n",
    "from uk_covid19 import Cov19API"
   ]
  },
  {
   "cell_type": "code",
   "execution_count": 13,
   "metadata": {},
   "outputs": [],
   "source": [
    "%matplotlib inline\n",
    "# make figures larger\n",
    "plt.rcParams['figure.dpi'] = 100"
   ]
  },
  {
   "cell_type": "code",
   "execution_count": 14,
   "metadata": {
    "tags": []
   },
   "outputs": [],
   "source": [
    "#Loads JSON files and store the raw data in some variable.\n",
    "with open(\"vaccineseries.json\", \"r\") as INFILE:\n",
    "    jsondata=json.load(INFILE)"
   ]
  },
  {
   "cell_type": "code",
   "execution_count": 15,
   "metadata": {},
   "outputs": [],
   "source": [
    "def parse_date(datestring):\n",
    "    \"\"\" Convert a date string into a pandas datetime object \"\"\"\n",
    "    return pd.to_datetime(datestring, format=\"%Y-%m-%d\") #creates a function to convert date string to pandas datetime object\n",
    "\n",
    "def wrangle_data(rawdata):\n",
    "    \"\"\" Parameters: rawdata - data from json file or API call. Returns a dataframe. \"\"\"\n",
    "    datalist=rawdata['data'] #retrieves list of dictionaries under the data key and assigns to datalist variable\n",
    "    dates=[dictionary['date'] for dictionary in datalist ] #extracts all the dates from the dictionary and assigns to dates variable\n",
    "    dates.sort() #sorts the date in \n",
    "    startdate=parse_date(dates[0]) #first item in the list\n",
    "    enddate=parse_date(dates[-1]) #last item in the list\n",
    "    index=pd.date_range(startdate, enddate, freq='D') #creates a date range, from the start to the end, with a frequency of each date being a day\n",
    "    vaccinedf=pd.DataFrame(index=index, columns=['cases', 'reinfections', 'vaccinations']) #specifies its index and the title of the columns\n",
    "    for entry in datalist: #each entry is a dictionary with date, cases, reinfections and vaccinations\n",
    "        date=parse_date(entry['date']) #calls the parse_date function\n",
    "        for column in ['cases', 'reinfections', 'vaccinations']: #list comprehension looping over each column\n",
    "            #.isna checks the pd(parse_date) for missing values\n",
    "            if pd.isna(vaccinedf.loc[date, column]): #.loc accesses a specific location in the dataframe (in this case, each loop)\n",
    "                value= float(entry[column]) if entry[column]!=None else 0.0 #replaces None with 0\n",
    "                vaccinedf.loc[date, column]=value #index,column in []\n",
    "    vaccinedf.fillna(0.0, inplace=True) #if .isna returned True, fill in missing dates with 0.0\n",
    "    return vaccinedf\n",
    "\n",
    "vaccinedf=wrangle_data(jsondata) #df is the dataframe"
   ]
  },
  {
   "cell_type": "markdown",
   "metadata": {},
   "source": [
    "## Download current data"
   ]
  },
  {
   "cell_type": "markdown",
   "metadata": {},
   "source": [
    "Click the button below to refresh the data from Public Health England."
   ]
  },
  {
   "cell_type": "code",
   "execution_count": 16,
   "metadata": {},
   "outputs": [],
   "source": [
    "#here is a function which accesses the API for fresh data\n",
    "def access_api():\n",
    "    \"\"\" Accesses the PHE API. Returns raw data in the same format as data loaded from the \"canned\" JSON file. \"\"\"\n",
    "    filters = [\n",
    "    \"areaType=nation\", #filters areaType by nation\n",
    "    \"areaName=England\" #filters areaName by England\n",
    "    ]\n",
    "    structure = {\n",
    "    \"date\": \"date\", \n",
    "    \"cases\": \"cumCasesByPublishDate\", \n",
    "    \"reinfections\": \"cumReinfectionsBySpecimenDate\", \n",
    "    \"vaccinations\": \"cumPeopleVaccinatedCompleteByVaccinationDate\",\n",
    "    }\n",
    "    api = Cov19API(filters=filters, structure=structure) #calls the Cov19API with filters and structure and assigns it to api variable\n",
    "    vaccineseries=api.get_json() #creates a json file from the api\n",
    "    return vaccineseries #return data read from the API"
   ]
  },
  {
   "cell_type": "code",
   "execution_count": 17,
   "metadata": {},
   "outputs": [
    {
     "data": {
      "application/vnd.jupyter.widget-view+json": {
       "model_id": "098e911a4a5d4ee0adcf86622ab10faf",
       "version_major": 2,
       "version_minor": 0
      },
      "text/plain": [
       "Button(button_style='info', description='Refresh data', icon='download', style=ButtonStyle(), tooltip='Click t…"
      ]
     },
     "metadata": {},
     "output_type": "display_data"
    }
   ],
   "source": [
    "#function for the api button to access the api\n",
    "def api_button_callback(button):\n",
    "    \"\"\" Button callback - Accesses API, wrangles data, updates global variable df used for plotting. \"\"\"\n",
    "    apidata=access_api() #calls the access_api function to provide current data\n",
    "    global vaccinedf\n",
    "    vaccinedf=wrangle_data(apidata) #calls wrangle_data function and applies to the apidata which was previously called, and assigns to dataframe\n",
    "    refresh_graph()\n",
    "    apibutton.icon=\"check\"\n",
    "\n",
    "#the refresh data widget\n",
    "apibutton=wdg.Button(\n",
    "    description='Refresh data',\n",
    "    disabled=False,\n",
    "    button_style='info',\n",
    "    tooltip='Click to download current Public Health England data',\n",
    "    icon='download',\n",
    ")\n",
    "\n",
    "apibutton.on_click(api_button_callback) #when the button is clicked, calls the api to refresh the data\n",
    "\n",
    "display(apibutton)"
   ]
  },
  {
   "cell_type": "markdown",
   "metadata": {},
   "source": [
    "## Graphs and Analysis"
   ]
  },
  {
   "cell_type": "markdown",
   "metadata": {},
   "source": [
    "The graph below compares the number of cases, reinfections and vaccinations in England.\n",
    "\n",
    "Please select a statistic. If you would like to select more than 1, please Ctrl-Click the statistics in the box.\n",
    "\n",
    "If you would like to change the scale of the graph, please choose between the toggle buttons."
   ]
  },
  {
   "cell_type": "code",
   "execution_count": 18,
   "metadata": {},
   "outputs": [
    {
     "data": {
      "application/vnd.jupyter.widget-view+json": {
       "model_id": "64bdbcdd28c74d0b89c9458a985fedd7",
       "version_major": 2,
       "version_minor": 0
      },
      "text/plain": [
       "VBox(children=(SelectMultiple(description='Stats:', index=(0, 1, 2), options=('cases', 'reinfections', 'vaccin…"
      ]
     },
     "metadata": {},
     "output_type": "display_data"
    },
    {
     "data": {
      "application/vnd.jupyter.widget-view+json": {
       "model_id": "d49789a7712042208ad4262c0a033302",
       "version_major": 2,
       "version_minor": 0
      },
      "text/plain": [
       "HBox(children=(Output(), VBox(children=(SelectMultiple(description='Stats:', index=(0, 1, 2), options=('cases'…"
      ]
     },
     "metadata": {},
     "output_type": "display_data"
    }
   ],
   "source": [
    "#SelectMultiple widget\n",
    "series=wdg.SelectMultiple(\n",
    "    options=['cases', 'reinfections', 'vaccinations'],\n",
    "    value=['cases', 'reinfections', 'vaccinations'],\n",
    "    rows=3,\n",
    "    description='Stats:',\n",
    "    disabled=False,\n",
    ")    \n",
    "\n",
    "#ToggleButtons widget\n",
    "scale=wdg.ToggleButtons(\n",
    "    options=['Linear', 'Log'],\n",
    "#    value='pineapple', # Defaults to 'pineapple'\n",
    "#    layout={'width': 'max-\n",
    "    description='Scale:',\n",
    "    disabled=False,\n",
    "    button_style='info',\n",
    "    tooltips=['Linear scale', 'Log scale'],\n",
    ")\n",
    "\n",
    "#function to change the scale of the graph from log to linear\n",
    "def vaccineseries_graph(gcols, gscale):\n",
    "    if gscale=='Linear':\n",
    "        logscale=False #if gscale=linear, turn off log\n",
    "    else:\n",
    "        logscale=True #else keep it on\n",
    "    ncols=len(gcols)\n",
    "    if ncols>0:\n",
    "        vaccinedf[list(gcols)].plot(logy=logscale, linewidth=2, linestyle='dashed') #plots the graph\n",
    "        plt.show()\n",
    "    else:\n",
    "        print(\"Please choose a stat\") \n",
    "        print(\"(CTRL-Click to select more than one category)\") #print these lines if user does not choose a statistic\n",
    "\n",
    "# keep calling timeseries_graph(gcols=value_of_series, gscale=value_of_scale); \n",
    "# capture output in widget graph   \n",
    "\n",
    "#function to refresh the graph\n",
    "def refresh_graph():\n",
    "    \"\"\" We change the value of the widget in order to force a redraw of the graph;\n",
    "    this is useful when the data have been updated. \"\"\"\n",
    "    current=scale.value\n",
    "    if current==scale.options[0]:\n",
    "        other=scale.options[1]\n",
    "    else:\n",
    "        other=scale.options[0]\n",
    "    scale.value=other # forces the redraw\n",
    "    scale.value=current # now we can change it back\n",
    "\n",
    "ctrls=wdg.VBox([series, scale]) #puts controls into a box\n",
    "display(ctrls)\n",
    "graph=wdg.interactive_output(vaccineseries_graph, {'gcols': series, 'gscale': scale}) #draws the graph and adds the interactive widgets\n",
    "form=wdg.HBox([graph, ctrls]) #puts graph and controls in a box\n",
    "display(form) #displays the graph and controls"
   ]
  },
  {
   "cell_type": "markdown",
   "metadata": {},
   "source": [
    "**Author and Copyright Notice** 2022 Created by Sarah Wakeley, with code from Fabrizio Smeraldi (f.smeraldi@qmul.ac.uk - web), all rights reserved. Data source: *Based on UK Government [data](https://coronavirus.data.gov.uk/) published by [Public Health England](https://www.gov.uk/government/organisations/public-health-england).*"
   ]
  },
  {
   "cell_type": "code",
   "execution_count": null,
   "metadata": {},
   "outputs": [],
   "source": []
  },
  {
   "cell_type": "code",
   "execution_count": null,
   "metadata": {},
   "outputs": [],
   "source": []
  }
 ],
 "metadata": {
  "kernelspec": {
   "display_name": "Python 3 (ipykernel)",
   "language": "python",
   "name": "python3"
  },
  "language_info": {
   "codemirror_mode": {
    "name": "ipython",
    "version": 3
   },
   "file_extension": ".py",
   "mimetype": "text/x-python",
   "name": "python",
   "nbconvert_exporter": "python",
   "pygments_lexer": "ipython3",
   "version": "3.10.6"
  }
 },
 "nbformat": 4,
 "nbformat_minor": 4
}
